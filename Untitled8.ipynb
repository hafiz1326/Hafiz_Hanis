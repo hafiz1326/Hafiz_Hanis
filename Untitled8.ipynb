{
  "cells": [
    {
      "cell_type": "markdown",
      "metadata": {
        "id": "view-in-github",
        "colab_type": "text"
      },
      "source": [
        "<a href=\"https://colab.research.google.com/github/hafiz1326/Hafiz_Hanis/blob/main/Untitled8.ipynb\" target=\"_parent\"><img src=\"https://colab.research.google.com/assets/colab-badge.svg\" alt=\"Open In Colab\"/></a>"
      ]
    },
    {
      "cell_type": "code",
      "execution_count": null,
      "metadata": {
        "colab": {
          "base_uri": "https://localhost:8080/"
        },
        "id": "HrNDthxEq4w5",
        "outputId": "94188423-34d6-40d8-ece3-9934a3291af0"
      },
      "outputs": [
        {
          "name": "stdout",
          "output_type": "stream",
          "text": [
            " by ppid ipb | jul 18, 2022lebah memiliki peranan penting bagi keseimbangan ekosistem. selain produk madu yang bermanfaat bagi manusia, lebah juga memiliki peran sebagai serangga penyerbuk.tanpa lebah, keseimbangan ekosistem akan terganggu dan mempengaruhi berbagai sektor kehidupan.\n",
            "dalam rangka world bee day 2022, ipb university bekerja sama dengan asosiasi perlebahan indonesia, universitas gadjah mada, universitas patompo, universitas tadulako dan kementerian pertanian ri menggelar webinar “waspada hama dan penyakit pada lebah”, senin (18/07). dr tri atmowidi, dosen ipb university dari departemen biologi fakultas matematika dan ilmu pengetahuan alam (fmipa) mencoba mengupas lebih dalam terkait hama atau musuh alami lebah tanpa sengat.menurutnya, lebah tanpa sengat atau lebih sering dikenal dengan lebah propolis (stingless bee) berbeda dengan lebah madu biasa karena tidak memiliki sengat. masyarakat lebih mengenalnya dengan nama lokal klanceng atau lancing di jawa, galo-galo di sumatera, kelulut di kalimantan, serta letape atau emmu di sulawesi. lebah ini dinilai cukup aman bagi manusia bahkan untuk usia anak-anak.lebah ini punya cara menyerang dengan menggigit dan cenderung tidak berbahaya.\n",
            "“distribusinya di dunia berfokus di daerah tropis dan sub tropis. di antaranya amerika selatan, afrika, asia, australia dan indonesia. lebah ini dibagi ke dalam beberapa genus dan di indonesia memiliki 37 spesies. jumlah terbanyak terdapat di kalimantan dengan total 31 spesies. lebah ini gemar bersarang di sela-sela rumah hingga pondasi bangunan,” jelasnya.ia menjelaskan, struktur internal lebah tanpa sengat terdiri dari tiga bagian dan penuh madu. lebah ini mampu menghasilkan madu 5.8 kilogram per tahun dan kaya akan propolis. madunya dikenal lebih mahal karena produksi madunya lebih sedikit daripada lebah madu biasa.“lebah ini juga berperan besar sebagai penyerbuk tanaman. kadang nilai ekonominya kurang dievaluasi dan diperhitungkan. padahal nilainya besar karena dilihat dari produksi madu dan propolisnya saja,” ujarnya.ia mengatakan, populasi lebah ini terkadang terancam akibat ccd atau colony collapse disorder.  menurunnya populasi lebah ini disebabkan oleh virus, hama, mengkonsumsi tanaman genetically modified organism (gmo) hingga pestisida.\n",
            "“adapun hama yang sering menjadi musuh lebah tanpa sengat di antaranya ngengat lilin, kumbang, hingga tungau. biasanya, kumbang menginfestasi koloni lebah. sementara lebah mengeluarkan perilaku pertahanannya dengan cara mengeluarkan resin, mengeroyok musuhnya, maupun membuang bangkai kumbang,” imbuhnya.penelitian di pandeglang tahun 2019, katanya, menunjukkan bahwa rata-rata investasi kumbang berjenis histerids dan nitudulids merupakan hama yang menyerang koloni lebah tanpa sengat di indonesia, di samping musuh alami lain. penelitian ini dilakukan pada tipe sarang stup dan bambu. diketahui bahwa larva kumbang sangat berbahaya karena dapat merusak sarang.\n",
            "selain itu, imbuhnya, musuh alami lainnya adalah tawon, lalat phorid, semut, kepik, rayap, parasitoid dan tungau. lebah tanpa sengat juga dapat diserang oleh bakteri, cendawan dan virus. keberadaaan lebah ini di alam dipengaruhi oleh musuh alami predator, parasitoid, penyakit. serangan hama dan penyakit ini tentu dapat mempengaruhi populasi lebah dan produktivitas madu.“perlu kewaspadaan terhadap serangan kumbang aethina tumida karena spesies ini sudah banyak menyerang koloni lebah di australia,” tutupnya. (mw/zul)sumber : https://ipb.ac.id/news/index/2022/07/kupas-tuntas-lebah-tanpa-sengat-dan-musuh-alaminya-simak-disini/0c8d0441339097b47942bcf7934f1143accessibility tools\n",
            "mengenal bunga matahari, dari asal usul, sejarah, jenis, dan manfaatpenulisjakarta, kompas.com - bunga matahari adalah salah satu bunga tercantik dan populer di dunia. bunga yang banyak disukai ini memiliki tampilan khas dan berbeda dari bunga lainnya.bunga matahari mempunyai kelopak bunga yang besar berwarna kuning cerah dengan cokelat pada bagian tengahnya. bunga ini bisa tumbuh tinggi mencapai empat meter.baca juga: hama dan penyakit yang sering menyerang bunga mataharitampilannya yang cantik ini membuat bunga matahari banyak disukai dan siapa pun yang melihatnya akan tampak ceria. bunga bernama ilmiah helianthus annuus ini ternyata juga memiliki kisah yang luar biasa untuk diceritakan, dari asal usul, sejarah, jenis bunga matahari, warna, hingga karakteristiknya. berikut ini sejumlahfakta menarik bunga matahari dilansir petal republic. baca juga: ragam hal yang perlu diketahui tentang bunga mataharibunga matahari berasal dari amerika dan pertama kali didomestikasi di meksiko saat ini dan di tempat yang sekarang amerika selatan sejak 2100 sebelum masehi.begitu orang eropa mencapai \"dunia baru\", bunga matahari dibawa kembali ke negara mereka dan mendapatkan popularitas di seluruh dunia.bunga matahari muncul dalam mitologi yunani kuno dan nama spesiesnya berasal dari bahasa yunani, yakni helioanthus dengan helios yang berarti matahari dan anthos yang berarti bunga.secara historis, bunga matahari telah digunakan dalam upacara keagamaan inca—kelompok bangsa indian dari amerika selatan, sebagai obat di antara suku-suku asli amerika, serta titik fokus karya seni ikonik di seluruh eropa dan asia. baca juga: cara menanam bunga matahari, bikin halaman rumah lebih cerahcopyright 2008 - 2024 pt. kompas cyber media (kompas gramedia digital group). all rights reserved.\n"
          ]
        }
      ],
      "source": [
        "# Import Library\n",
        "import bs4 as bs # Beautiful Soup4\n",
        "import urllib.request # Requests\n",
        "\n",
        "# Scraping data artikel tentang Kucing di Wikipedia\n",
        "\n",
        "lebah_data = urllib.request.urlopen('https://ppid.ipb.ac.id/kupas-tuntas-lebah-tanpa-sengat-dan-musuh-alaminya-simak-disini/').read()\n",
        "Bunga_data = urllib.request.urlopen('https://www.kompas.com/homey/read/2022/08/12/200445676/mengenal-bunga-matahari-dari-asal-usul-sejarah-jenis-dan-manfaat').read()\n",
        "\n",
        "\n",
        "\n",
        "\n",
        "# Menemukan keseluruhan paragraf html dari laman web\n",
        "lebah_data_paragraphs = bs.BeautifulSoup(lebah_data,'lxml').find_all('p')\n",
        "Bunga_data_paragraphs = bs.BeautifulSoup(Bunga_data,'lxml').find_all('p')\n",
        "\n",
        "\n",
        "\n",
        "# Membuat korpus dari keseluruhan paragraf artikel di situs web\n",
        "lebah_text = ''\n",
        "Bunga_text = ''\n",
        "# Membuat korpus teks huruf kecil pada paragraf tentang lebah\n",
        "for p in lebah_data_paragraphs:\n",
        "    lebah_text += p.text.lower()\n",
        "# Membuat korpus teks huruf kecil pada paragraf tentang bunga\n",
        "for p in Bunga_data_paragraphs:\n",
        "    Bunga_text += p.text.lower()\n",
        "\n",
        "print(lebah_text)\n",
        "print(Bunga_text)\n"
      ]
    },
    {
      "cell_type": "code",
      "execution_count": null,
      "metadata": {
        "colab": {
          "base_uri": "https://localhost:8080/"
        },
        "id": "QrqYjYJZrF1F",
        "outputId": "2de05963-e903-49a8-86a9-386fb1c8007e"
      },
      "outputs": [
        {
          "name": "stdout",
          "output_type": "stream",
          "text": [
            " by ppid ipb | jul 18, 2022lebah memiliki peranan penting bagi keseimbangan ekosistem. selain produk madu yang bermanfaat bagi manusia, lebah juga memiliki peran sebagai serangga penyerbuk.tanpa lebah, keseimbangan ekosistem akan terganggu dan mempengaruhi berbagai sektor kehidupan.\n",
            "dalam rangka world bee day 2022, ipb university bekerja sama dengan asosiasi perlebahan indonesia, universitas gadjah mada, universitas patompo, universitas tadulako dan kementerian pertanian ri menggelar webinar “waspada hama dan penyakit pada lebah”, senin (18/07). dr tri atmowidi, dosen ipb university dari departemen biologi fakultas matematika dan ilmu pengetahuan alam (fmipa) mencoba mengupas lebih dalam terkait hama atau musuh alami lebah tanpa sengat.menurutnya, lebah tanpa sengat atau lebih sering dikenal dengan lebah propolis (stingless bee) berbeda dengan lebah madu biasa karena tidak memiliki sengat. masyarakat lebih mengenalnya dengan nama lokal klanceng atau lancing di jawa, galo-galo di sumatera, kelulut di kalimantan, serta letape atau emmu di sulawesi. lebah ini dinilai cukup aman bagi manusia bahkan untuk usia anak-anak.lebah ini punya cara menyerang dengan menggigit dan cenderung tidak berbahaya.\n",
            "“distribusinya di dunia berfokus di daerah tropis dan sub tropis. di antaranya amerika selatan, afrika, asia, australia dan indonesia. lebah ini dibagi ke dalam beberapa genus dan di indonesia memiliki 37 spesies. jumlah terbanyak terdapat di kalimantan dengan total 31 spesies. lebah ini gemar bersarang di sela-sela rumah hingga pondasi bangunan,” jelasnya.ia menjelaskan, struktur internal lebah tanpa sengat terdiri dari tiga bagian dan penuh madu. lebah ini mampu menghasilkan madu 5.8 kilogram per tahun dan kaya akan propolis. madunya dikenal lebih mahal karena produksi madunya lebih sedikit daripada lebah madu biasa.“lebah ini juga berperan besar sebagai penyerbuk tanaman. kadang nilai ekonominya kurang dievaluasi dan diperhitungkan. padahal nilainya besar karena dilihat dari produksi madu dan propolisnya saja,” ujarnya.ia mengatakan, populasi lebah ini terkadang terancam akibat ccd atau colony collapse disorder.  menurunnya populasi lebah ini disebabkan oleh virus, hama, mengkonsumsi tanaman genetically modified organism (gmo) hingga pestisida.\n",
            "“adapun hama yang sering menjadi musuh lebah tanpa sengat di antaranya ngengat lilin, kumbang, hingga tungau. biasanya, kumbang menginfestasi koloni lebah. sementara lebah mengeluarkan perilaku pertahanannya dengan cara mengeluarkan resin, mengeroyok musuhnya, maupun membuang bangkai kumbang,” imbuhnya.penelitian di pandeglang tahun 2019, katanya, menunjukkan bahwa rata-rata investasi kumbang berjenis histerids dan nitudulids merupakan hama yang menyerang koloni lebah tanpa sengat di indonesia, di samping musuh alami lain. penelitian ini dilakukan pada tipe sarang stup dan bambu. diketahui bahwa larva kumbang sangat berbahaya karena dapat merusak sarang.\n",
            "selain itu, imbuhnya, musuh alami lainnya adalah tawon, lalat phorid, semut, kepik, rayap, parasitoid dan tungau. lebah tanpa sengat juga dapat diserang oleh bakteri, cendawan dan virus. keberadaaan lebah ini di alam dipengaruhi oleh musuh alami predator, parasitoid, penyakit. serangan hama dan penyakit ini tentu dapat mempengaruhi populasi lebah dan produktivitas madu.“perlu kewaspadaan terhadap serangan kumbang aethina tumida karena spesies ini sudah banyak menyerang koloni lebah di australia,” tutupnya. (mw/zul)sumber : https://ipb.ac.id/news/index/2022/07/kupas-tuntas-lebah-tanpa-sengat-dan-musuh-alaminya-simak-disini/0c8d0441339097b47942bcf7934f1143accessibility tools\n",
            "mengenal bunga matahari, dari asal usul, sejarah, jenis, dan manfaatpenulisjakarta, kompas.com - bunga matahari adalah salah satu bunga tercantik dan populer di dunia. bunga yang banyak disukai ini memiliki tampilan khas dan berbeda dari bunga lainnya.bunga matahari mempunyai kelopak bunga yang besar berwarna kuning cerah dengan cokelat pada bagian tengahnya. bunga ini bisa tumbuh tinggi mencapai empat meter.baca juga: hama dan penyakit yang sering menyerang bunga mataharitampilannya yang cantik ini membuat bunga matahari banyak disukai dan siapa pun yang melihatnya akan tampak ceria. bunga bernama ilmiah helianthus annuus ini ternyata juga memiliki kisah yang luar biasa untuk diceritakan, dari asal usul, sejarah, jenis bunga matahari, warna, hingga karakteristiknya. berikut ini sejumlahfakta menarik bunga matahari dilansir petal republic. baca juga: ragam hal yang perlu diketahui tentang bunga mataharibunga matahari berasal dari amerika dan pertama kali didomestikasi di meksiko saat ini dan di tempat yang sekarang amerika selatan sejak 2100 sebelum masehi.begitu orang eropa mencapai \"dunia baru\", bunga matahari dibawa kembali ke negara mereka dan mendapatkan popularitas di seluruh dunia.bunga matahari muncul dalam mitologi yunani kuno dan nama spesiesnya berasal dari bahasa yunani, yakni helioanthus dengan helios yang berarti matahari dan anthos yang berarti bunga.secara historis, bunga matahari telah digunakan dalam upacara keagamaan inca—kelompok bangsa indian dari amerika selatan, sebagai obat di antara suku-suku asli amerika, serta titik fokus karya seni ikonik di seluruh eropa dan asia. baca juga: cara menanam bunga matahari, bikin halaman rumah lebih cerahcopyright 2008 - 2024 pt. kompas cyber media (kompas gramedia digital group). all rights reserved.\n"
          ]
        }
      ],
      "source": [
        "# Regular Expressions\n",
        "import re\n",
        "\n",
        "lebag_text = re.sub(r'\\s+', ' ',re.sub(r'\\[[0-9]*\\]', ' ', lebah_text))\n",
        "print(lebah_text)\n",
        "\n",
        "bunga_text = re.sub(r'\\s+', ' ',re.sub(r'\\[[0-9]*\\]', ' ', Bunga_text))\n",
        "print(Bunga_text)\n",
        "\n"
      ]
    },
    {
      "cell_type": "code",
      "execution_count": null,
      "metadata": {
        "colab": {
          "base_uri": "https://localhost:8080/"
        },
        "id": "TDxRA9RarIv9",
        "outputId": "7aecb643-21f4-407c-d2e2-c5a8fd956b98"
      },
      "outputs": [
        {
          "name": "stderr",
          "output_type": "stream",
          "text": [
            "[nltk_data] Downloading package punkt to /root/nltk_data...\n",
            "[nltk_data]   Unzipping tokenizers/punkt.zip.\n"
          ]
        },
        {
          "data": {
            "text/plain": [
              "True"
            ]
          },
          "execution_count": 6,
          "metadata": {},
          "output_type": "execute_result"
        }
      ],
      "source": [
        "# Tokenisasi dengan NLTK\n",
        "import nltk\n",
        "# Download package punkt\n",
        "nltk.download('punkt')"
      ]
    },
    {
      "cell_type": "code",
      "execution_count": null,
      "metadata": {
        "colab": {
          "base_uri": "https://localhost:8080/"
        },
        "id": "pm2rRblTrNE4",
        "outputId": "3186761f-8761-432d-eb76-dff07045e7d5"
      },
      "outputs": [
        {
          "name": "stdout",
          "output_type": "stream",
          "text": [
            "[' by ppid ipb | jul 18, 2022lebah memiliki peranan penting bagi keseimbangan ekosistem.', 'selain produk madu yang bermanfaat bagi manusia, lebah juga memiliki peran sebagai serangga penyerbuk.tanpa lebah, keseimbangan ekosistem akan terganggu dan mempengaruhi berbagai sektor kehidupan.', 'dalam rangka world bee day 2022, ipb university bekerja sama dengan asosiasi perlebahan indonesia, universitas gadjah mada, universitas patompo, universitas tadulako dan kementerian pertanian ri menggelar webinar “waspada hama dan penyakit pada lebah”, senin (18/07).', 'dr tri atmowidi, dosen ipb university dari departemen biologi fakultas matematika dan ilmu pengetahuan alam (fmipa) mencoba mengupas lebih dalam terkait hama atau musuh alami lebah tanpa sengat.menurutnya, lebah tanpa sengat atau lebih sering dikenal dengan lebah propolis (stingless bee) berbeda dengan lebah madu biasa karena tidak memiliki sengat.', 'masyarakat lebih mengenalnya dengan nama lokal klanceng atau lancing di jawa, galo-galo di sumatera, kelulut di kalimantan, serta letape atau emmu di sulawesi.', 'lebah ini dinilai cukup aman bagi manusia bahkan untuk usia anak-anak.lebah ini punya cara menyerang dengan menggigit dan cenderung tidak berbahaya.', '“distribusinya di dunia berfokus di daerah tropis dan sub tropis.', 'di antaranya amerika selatan, afrika, asia, australia dan indonesia.', 'lebah ini dibagi ke dalam beberapa genus dan di indonesia memiliki 37 spesies.', 'jumlah terbanyak terdapat di kalimantan dengan total 31 spesies.', 'lebah ini gemar bersarang di sela-sela rumah hingga pondasi bangunan,” jelasnya.ia menjelaskan, struktur internal lebah tanpa sengat terdiri dari tiga bagian dan penuh madu.', 'lebah ini mampu menghasilkan madu 5.8 kilogram per tahun dan kaya akan propolis.', 'madunya dikenal lebih mahal karena produksi madunya lebih sedikit daripada lebah madu biasa.“lebah ini juga berperan besar sebagai penyerbuk tanaman.', 'kadang nilai ekonominya kurang dievaluasi dan diperhitungkan.', 'padahal nilainya besar karena dilihat dari produksi madu dan propolisnya saja,” ujarnya.ia mengatakan, populasi lebah ini terkadang terancam akibat ccd atau colony collapse disorder.', 'menurunnya populasi lebah ini disebabkan oleh virus, hama, mengkonsumsi tanaman genetically modified organism (gmo) hingga pestisida.', '“adapun hama yang sering menjadi musuh lebah tanpa sengat di antaranya ngengat lilin, kumbang, hingga tungau.', 'biasanya, kumbang menginfestasi koloni lebah.', 'sementara lebah mengeluarkan perilaku pertahanannya dengan cara mengeluarkan resin, mengeroyok musuhnya, maupun membuang bangkai kumbang,” imbuhnya.penelitian di pandeglang tahun 2019, katanya, menunjukkan bahwa rata-rata investasi kumbang berjenis histerids dan nitudulids merupakan hama yang menyerang koloni lebah tanpa sengat di indonesia, di samping musuh alami lain.', 'penelitian ini dilakukan pada tipe sarang stup dan bambu.', 'diketahui bahwa larva kumbang sangat berbahaya karena dapat merusak sarang.', 'selain itu, imbuhnya, musuh alami lainnya adalah tawon, lalat phorid, semut, kepik, rayap, parasitoid dan tungau.', 'lebah tanpa sengat juga dapat diserang oleh bakteri, cendawan dan virus.', 'keberadaaan lebah ini di alam dipengaruhi oleh musuh alami predator, parasitoid, penyakit.', 'serangan hama dan penyakit ini tentu dapat mempengaruhi populasi lebah dan produktivitas madu.“perlu kewaspadaan terhadap serangan kumbang aethina tumida karena spesies ini sudah banyak menyerang koloni lebah di australia,” tutupnya.', '(mw/zul)sumber : https://ipb.ac.id/news/index/2022/07/kupas-tuntas-lebah-tanpa-sengat-dan-musuh-alaminya-simak-disini/0c8d0441339097b47942bcf7934f1143accessibility tools']\n",
            "['mengenal bunga matahari, dari asal usul, sejarah, jenis, dan manfaatpenulisjakarta, kompas.com - bunga matahari adalah salah satu bunga tercantik dan populer di dunia.', 'bunga yang banyak disukai ini memiliki tampilan khas dan berbeda dari bunga lainnya.bunga matahari mempunyai kelopak bunga yang besar berwarna kuning cerah dengan cokelat pada bagian tengahnya.', 'bunga ini bisa tumbuh tinggi mencapai empat meter.baca juga: hama dan penyakit yang sering menyerang bunga mataharitampilannya yang cantik ini membuat bunga matahari banyak disukai dan siapa pun yang melihatnya akan tampak ceria.', 'bunga bernama ilmiah helianthus annuus ini ternyata juga memiliki kisah yang luar biasa untuk diceritakan, dari asal usul, sejarah, jenis bunga matahari, warna, hingga karakteristiknya.', 'berikut ini sejumlahfakta menarik bunga matahari dilansir petal republic.', 'baca juga: ragam hal yang perlu diketahui tentang bunga mataharibunga matahari berasal dari amerika dan pertama kali didomestikasi di meksiko saat ini dan di tempat yang sekarang amerika selatan sejak 2100 sebelum masehi.begitu orang eropa mencapai \"dunia baru\", bunga matahari dibawa kembali ke negara mereka dan mendapatkan popularitas di seluruh dunia.bunga matahari muncul dalam mitologi yunani kuno dan nama spesiesnya berasal dari bahasa yunani, yakni helioanthus dengan helios yang berarti matahari dan anthos yang berarti bunga.secara historis, bunga matahari telah digunakan dalam upacara keagamaan inca—kelompok bangsa indian dari amerika selatan, sebagai obat di antara suku-suku asli amerika, serta titik fokus karya seni ikonik di seluruh eropa dan asia.', 'baca juga: cara menanam bunga matahari, bikin halaman rumah lebih cerahcopyright 2008 - 2024 pt.', 'kompas cyber media (kompas gramedia digital group).', 'all rights reserved.']\n"
          ]
        }
      ],
      "source": [
        "lebah_sentences = nltk.sent_tokenize(lebah_text)\n",
        "bunga_sentences = nltk.sent_tokenize(bunga_text)\n",
        "# Perintah hasil tokenisasi kalimat\n",
        "print(lebah_sentences)\n",
        "print(bunga_sentences)"
      ]
    },
    {
      "cell_type": "code",
      "execution_count": null,
      "metadata": {
        "id": "S7YxqfvWrQdg"
      },
      "outputs": [],
      "source": [
        "# TF-IDF Algorithm\n",
        "from sklearn.feature_extraction.text import TfidfVectorizer\n",
        "# Cosine Similartity\n",
        "from sklearn.metrics.pairwise import cosine_similarity\n",
        "\n",
        "def chatbot_response(user_query):\n",
        "  # Menambahkan kueri ke sentences list atau daftar kalimat\n",
        "  lebah_sentences.append(user_query)\n",
        "  # Membuat basis vektor kalimat ke dalam list\n",
        "  vectorizer = TfidfVectorizer()\n",
        "  sentences_vectors = vectorizer.fit_transform(lebah_sentences)\n",
        "  '''Mengukur cosine similarity dan ambil indeks terdekat yang kedua\n",
        "  karena indeks pertama adalah masukkan teks kueri atau permintaan user'''\n",
        "  vector_values = cosine_similarity(sentences_vectors[-1], sentences_vectors)\n",
        "  answer = lebah_sentences[vector_values.argsort()[0][-2]]\n",
        "  '''Pemeriksaan akhir untuk memastikan adanya hasil atau respon bot.\n",
        "  Jika keseluruhannya bernilai 0, maka teks yang di input tidak terdapat dalam korpus'''\n",
        "  input_check = vector_values.flatten()\n",
        "  input_check.sort()\n",
        "\n",
        "  if input_check[-2] == 0:\n",
        "    return \"Mohon dicoba lagi yaa\"\n",
        "  else:\n",
        "    return answer"
      ]
    },
    {
      "cell_type": "code",
      "execution_count": null,
      "metadata": {
        "colab": {
          "background_save": true,
          "base_uri": "https://localhost:8080/"
        },
        "id": "I0uHY6XLrTbX",
        "outputId": "da23b8d7-2fde-4279-cfda-c53eb15b8af0"
      },
      "outputs": [
        {
          "name": "stdout",
          "output_type": "stream",
          "text": [
            "Halo, saya Kelompok unyu-Bot. Apa pertanyaan Manis mu?:\n"
          ]
        }
      ],
      "source": [
        " print(\"Halo, saya Kelompok unyu-Bot. Apa pertanyaan Manis mu?:\")\n",
        "while(True):\n",
        "  query = input().lower()\n",
        "  # Statement jika ada kata selamat tinggal\n",
        "  if query not in ['bye', 'goodbye', 'take care', 'sayonara', 'dadah', 'selamat tinggal']:\n",
        "    print(\"😺 kelompok unyu-Bot: \", end=\"\")\n",
        "    print(chatbot_response(query))\n",
        "    lebah_sentences.remove(query)\n",
        "  else:\n",
        "    print(\"See You Again!\")\n",
        "    break"
      ]
    }
  ],
  "metadata": {
    "colab": {
      "provenance": [],
      "authorship_tag": "ABX9TyOxdYJ2C2omy4TxmfgzBV5U",
      "include_colab_link": true
    },
    "kernelspec": {
      "display_name": "Python 3",
      "name": "python3"
    },
    "language_info": {
      "name": "python"
    }
  },
  "nbformat": 4,
  "nbformat_minor": 0
}